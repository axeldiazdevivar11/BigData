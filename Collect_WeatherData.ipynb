{
 "cells": [
  {
   "cell_type": "code",
   "execution_count": null,
   "id": "0dbcbdf9",
   "metadata": {},
   "outputs": [],
   "source": [
    "# Importamos librerías n\n",
    "import requests  # Para hacer solicitudes HTTP\n",
    "import pandas as pd  # Para manejar datos en tablas (DataFrame)\n",
    "import numpy as np  # Para manejar valores NaN y cálculos numéricos\n",
    "from keys import *  # Importamos la clave de API desde el archivo keys.py\n",
    "\n",
    "# Definimos la ciudad y país \n",
    "city = \"London\"  \n",
    "country = \"GB\"\n",
    "\n",
    "# Hacemos la solicitud a la API de OpenWeatherMap\n",
    "# Incluimos la ciudad, país, nuestra clave, unidades métricas y idioma ingles\n",
    "response = requests.get(\n",
    "    f'http://api.openweathermap.org/data/2.5/forecast/?q={city},{country}&appid={OWM_key}&units=metric&lang=en'\n",
    ")"
   ]
  },
  {
   "cell_type": "code",
   "execution_count": null,
   "id": "d467d96b",
   "metadata": {},
   "outputs": [
    {
     "name": "stdout",
     "output_type": "stream",
     "text": [
      "{'cod': '200', 'message': 0, 'cnt': 40, 'list': [{'dt': 1758758400, 'main': {'temp': 11.5, 'feels_like': 10.59, 'temp_min': 10.19, 'temp_max': 11.5, 'pressure': 1026, 'sea_level': 1026, 'grnd_level': 1022, 'humidity': 72, 'temp_kf': 1.31}, 'weather': [{'id': 804, 'main': 'Clouds', 'description': 'overcast clouds', 'icon': '04n'}], 'clouds': {'all': 86}, 'wind': {'speed': 2.87, 'deg': 11, 'gust': 7.68}, 'visibility': 10000, 'pop': 0, 'sys': {'pod': 'n'}, 'dt_txt': '2025-09-25 00:00:00'}, {'dt': 1758769200, 'main': {'temp': 11.14, 'feels_like': 10.16, 'temp_min': 10.43, 'temp_max': 11.14, 'pressure': 1026, 'sea_level': 1026, 'grnd_level': 1021, 'humidity': 71, 'temp_kf': 0.71}, 'weather': [{'id': 804, 'main': 'Clouds', 'description': 'overcast clouds', 'icon': '04n'}], 'clouds': {'all': 91}, 'wind': {'speed': 2.84, 'deg': 18, 'gust': 8.84}, 'visibility': 10000, 'pop': 0, 'sys': {'pod': 'n'}, 'dt_txt': '2025-09-25 03:00:00'}, {'dt': 1758780000, 'main': {'temp': 10.01, 'feels_like': 8.84, 'temp_min': 9.26, 'temp_max': 10.01, 'pressure': 1026, 'sea_level': 1026, 'grnd_level': 1022, 'humidity': 68, 'temp_kf': 0.75}, 'weather': [{'id': 804, 'main': 'Clouds', 'description': 'overcast clouds', 'icon': '04d'}], 'clouds': {'all': 93}, 'wind': {'speed': 3, 'deg': 16, 'gust': 9.4}, 'visibility': 10000, 'pop': 0, 'sys': {'pod': 'd'}, 'dt_txt': '2025-09-25 06:00:00'}, {'dt': 1758790800, 'main': {'temp': 14.95, 'feels_like': 13.83, 'temp_min': 14.95, 'temp_max': 14.95, 'pressure': 1026, 'sea_level': 1026, 'grnd_level': 1021, 'humidity': 51, 'temp_kf': 0}, 'weather': [{'id': 803, 'main': 'Clouds', 'description': 'broken clouds', 'icon': '04d'}], 'clouds': {'all': 65}, 'wind': {'speed': 4.65, 'deg': 44, 'gust': 9.02}, 'visibility': 10000, 'pop': 0, 'sys': {'pod': 'd'}, 'dt_txt': '2025-09-25 09:00:00'}, {'dt': 1758801600, 'main': {'temp': 17.78, 'feels_like': 16.61, 'temp_min': 17.78, 'temp_max': 17.78, 'pressure': 1025, 'sea_level': 1025, 'grnd_level': 1020, 'humidity': 38, 'temp_kf': 0}, 'weather': [{'id': 803, 'main': 'Clouds', 'description': 'broken clouds', 'icon': '04d'}], 'clouds': {'all': 65}, 'wind': {'speed': 5.42, 'deg': 58, 'gust': 8.12}, 'visibility': 10000, 'pop': 0, 'sys': {'pod': 'd'}, 'dt_txt': '2025-09-25 12:00:00'}, {'dt': 1758812400, 'main': {'temp': 17.83, 'feels_like': 16.53, 'temp_min': 17.83, 'temp_max': 17.83, 'pressure': 1024, 'sea_level': 1024, 'grnd_level': 1019, 'humidity': 33, 'temp_kf': 0}, 'weather': [{'id': 802, 'main': 'Clouds', 'description': 'scattered clouds', 'icon': '03d'}], 'clouds': {'all': 42}, 'wind': {'speed': 5.56, 'deg': 60, 'gust': 7.92}, 'visibility': 10000, 'pop': 0, 'sys': {'pod': 'd'}, 'dt_txt': '2025-09-25 15:00:00'}, {'dt': 1758823200, 'main': {'temp': 14.91, 'feels_like': 13.63, 'temp_min': 14.91, 'temp_max': 14.91, 'pressure': 1025, 'sea_level': 1025, 'grnd_level': 1020, 'humidity': 45, 'temp_kf': 0}, 'weather': [{'id': 802, 'main': 'Clouds', 'description': 'scattered clouds', 'icon': '03n'}], 'clouds': {'all': 26}, 'wind': {'speed': 4.21, 'deg': 68, 'gust': 7.75}, 'visibility': 10000, 'pop': 0, 'sys': {'pod': 'n'}, 'dt_txt': '2025-09-25 18:00:00'}, {'dt': 1758834000, 'main': {'temp': 13.2, 'feels_like': 12.01, 'temp_min': 13.2, 'temp_max': 13.2, 'pressure': 1025, 'sea_level': 1025, 'grnd_level': 1021, 'humidity': 55, 'temp_kf': 0}, 'weather': [{'id': 800, 'main': 'Clear', 'description': 'clear sky', 'icon': '01n'}], 'clouds': {'all': 5}, 'wind': {'speed': 3.25, 'deg': 29, 'gust': 7.69}, 'visibility': 10000, 'pop': 0, 'sys': {'pod': 'n'}, 'dt_txt': '2025-09-25 21:00:00'}, {'dt': 1758844800, 'main': {'temp': 11.81, 'feels_like': 10.64, 'temp_min': 11.81, 'temp_max': 11.81, 'pressure': 1023, 'sea_level': 1023, 'grnd_level': 1019, 'humidity': 61, 'temp_kf': 0}, 'weather': [{'id': 800, 'main': 'Clear', 'description': 'clear sky', 'icon': '01n'}], 'clouds': {'all': 3}, 'wind': {'speed': 3.11, 'deg': 30, 'gust': 9.16}, 'visibility': 10000, 'pop': 0, 'sys': {'pod': 'n'}, 'dt_txt': '2025-09-26 00:00:00'}, {'dt': 1758855600, 'main': {'temp': 11.24, 'feels_like': 10.04, 'temp_min': 11.24, 'temp_max': 11.24, 'pressure': 1023, 'sea_level': 1023, 'grnd_level': 1018, 'humidity': 62, 'temp_kf': 0}, 'weather': [{'id': 800, 'main': 'Clear', 'description': 'clear sky', 'icon': '01n'}], 'clouds': {'all': 8}, 'wind': {'speed': 2.53, 'deg': 36, 'gust': 8.26}, 'visibility': 10000, 'pop': 0, 'sys': {'pod': 'n'}, 'dt_txt': '2025-09-26 03:00:00'}, {'dt': 1758866400, 'main': {'temp': 11.22, 'feels_like': 10.04, 'temp_min': 11.22, 'temp_max': 11.22, 'pressure': 1023, 'sea_level': 1023, 'grnd_level': 1018, 'humidity': 63, 'temp_kf': 0}, 'weather': [{'id': 801, 'main': 'Clouds', 'description': 'few clouds', 'icon': '02d'}], 'clouds': {'all': 22}, 'wind': {'speed': 1.93, 'deg': 21, 'gust': 5.36}, 'visibility': 10000, 'pop': 0, 'sys': {'pod': 'd'}, 'dt_txt': '2025-09-26 06:00:00'}, {'dt': 1758877200, 'main': {'temp': 11.89, 'feels_like': 10.94, 'temp_min': 11.89, 'temp_max': 11.89, 'pressure': 1023, 'sea_level': 1023, 'grnd_level': 1018, 'humidity': 69, 'temp_kf': 0}, 'weather': [{'id': 804, 'main': 'Clouds', 'description': 'overcast clouds', 'icon': '04d'}], 'clouds': {'all': 100}, 'wind': {'speed': 2.53, 'deg': 50, 'gust': 5.17}, 'visibility': 10000, 'pop': 0, 'sys': {'pod': 'd'}, 'dt_txt': '2025-09-26 09:00:00'}, {'dt': 1758888000, 'main': {'temp': 14.64, 'feels_like': 13.67, 'temp_min': 14.64, 'temp_max': 14.64, 'pressure': 1022, 'sea_level': 1022, 'grnd_level': 1017, 'humidity': 58, 'temp_kf': 0}, 'weather': [{'id': 500, 'main': 'Rain', 'description': 'light rain', 'icon': '10d'}], 'clouds': {'all': 99}, 'wind': {'speed': 2.72, 'deg': 77, 'gust': 4.58}, 'visibility': 10000, 'pop': 0.2, 'rain': {'3h': 0.17}, 'sys': {'pod': 'd'}, 'dt_txt': '2025-09-26 12:00:00'}, {'dt': 1758898800, 'main': {'temp': 15.57, 'feels_like': 14.44, 'temp_min': 15.57, 'temp_max': 15.57, 'pressure': 1021, 'sea_level': 1021, 'grnd_level': 1017, 'humidity': 48, 'temp_kf': 0}, 'weather': [{'id': 804, 'main': 'Clouds', 'description': 'overcast clouds', 'icon': '04d'}], 'clouds': {'all': 90}, 'wind': {'speed': 2.37, 'deg': 124, 'gust': 3.16}, 'visibility': 10000, 'pop': 0, 'sys': {'pod': 'd'}, 'dt_txt': '2025-09-26 15:00:00'}, {'dt': 1758909600, 'main': {'temp': 13.71, 'feels_like': 12.81, 'temp_min': 13.71, 'temp_max': 13.71, 'pressure': 1022, 'sea_level': 1022, 'grnd_level': 1018, 'humidity': 64, 'temp_kf': 0}, 'weather': [{'id': 804, 'main': 'Clouds', 'description': 'overcast clouds', 'icon': '04n'}], 'clouds': {'all': 95}, 'wind': {'speed': 2.54, 'deg': 106, 'gust': 4.44}, 'visibility': 10000, 'pop': 0, 'sys': {'pod': 'n'}, 'dt_txt': '2025-09-26 18:00:00'}, {'dt': 1758920400, 'main': {'temp': 12.32, 'feels_like': 11.44, 'temp_min': 12.32, 'temp_max': 12.32, 'pressure': 1021, 'sea_level': 1021, 'grnd_level': 1017, 'humidity': 70, 'temp_kf': 0}, 'weather': [{'id': 802, 'main': 'Clouds', 'description': 'scattered clouds', 'icon': '03n'}], 'clouds': {'all': 50}, 'wind': {'speed': 1.54, 'deg': 113, 'gust': 3.3}, 'visibility': 10000, 'pop': 0, 'sys': {'pod': 'n'}, 'dt_txt': '2025-09-26 21:00:00'}, {'dt': 1758931200, 'main': {'temp': 11.29, 'feels_like': 10.38, 'temp_min': 11.29, 'temp_max': 11.29, 'pressure': 1021, 'sea_level': 1021, 'grnd_level': 1017, 'humidity': 73, 'temp_kf': 0}, 'weather': [{'id': 802, 'main': 'Clouds', 'description': 'scattered clouds', 'icon': '03n'}], 'clouds': {'all': 25}, 'wind': {'speed': 1.05, 'deg': 87, 'gust': 1.01}, 'visibility': 10000, 'pop': 0, 'sys': {'pod': 'n'}, 'dt_txt': '2025-09-27 00:00:00'}, {'dt': 1758942000, 'main': {'temp': 10.59, 'feels_like': 9.77, 'temp_min': 10.59, 'temp_max': 10.59, 'pressure': 1020, 'sea_level': 1020, 'grnd_level': 1015, 'humidity': 79, 'temp_kf': 0}, 'weather': [{'id': 800, 'main': 'Clear', 'description': 'clear sky', 'icon': '01n'}], 'clouds': {'all': 0}, 'wind': {'speed': 0.48, 'deg': 74, 'gust': 0.51}, 'visibility': 10000, 'pop': 0, 'sys': {'pod': 'n'}, 'dt_txt': '2025-09-27 03:00:00'}, {'dt': 1758952800, 'main': {'temp': 10.12, 'feels_like': 9.33, 'temp_min': 10.12, 'temp_max': 10.12, 'pressure': 1020, 'sea_level': 1020, 'grnd_level': 1015, 'humidity': 82, 'temp_kf': 0}, 'weather': [{'id': 800, 'main': 'Clear', 'description': 'clear sky', 'icon': '01d'}], 'clouds': {'all': 1}, 'wind': {'speed': 0.89, 'deg': 72, 'gust': 0.94}, 'visibility': 10000, 'pop': 0, 'sys': {'pod': 'd'}, 'dt_txt': '2025-09-27 06:00:00'}, {'dt': 1758963600, 'main': {'temp': 13.89, 'feels_like': 12.93, 'temp_min': 13.89, 'temp_max': 13.89, 'pressure': 1019, 'sea_level': 1019, 'grnd_level': 1015, 'humidity': 61, 'temp_kf': 0}, 'weather': [{'id': 802, 'main': 'Clouds', 'description': 'scattered clouds', 'icon': '03d'}], 'clouds': {'all': 30}, 'wind': {'speed': 1.28, 'deg': 94, 'gust': 1.95}, 'visibility': 10000, 'pop': 0, 'sys': {'pod': 'd'}, 'dt_txt': '2025-09-27 09:00:00'}, {'dt': 1758974400, 'main': {'temp': 17.51, 'feels_like': 16.49, 'temp_min': 17.51, 'temp_max': 17.51, 'pressure': 1019, 'sea_level': 1019, 'grnd_level': 1015, 'humidity': 45, 'temp_kf': 0}, 'weather': [{'id': 803, 'main': 'Clouds', 'description': 'broken clouds', 'icon': '04d'}], 'clouds': {'all': 56}, 'wind': {'speed': 1.38, 'deg': 144, 'gust': 2.49}, 'visibility': 10000, 'pop': 0, 'sys': {'pod': 'd'}, 'dt_txt': '2025-09-27 12:00:00'}, {'dt': 1758985200, 'main': {'temp': 17.7, 'feels_like': 16.78, 'temp_min': 17.7, 'temp_max': 17.7, 'pressure': 1018, 'sea_level': 1018, 'grnd_level': 1013, 'humidity': 48, 'temp_kf': 0}, 'weather': [{'id': 804, 'main': 'Clouds', 'description': 'overcast clouds', 'icon': '04d'}], 'clouds': {'all': 100}, 'wind': {'speed': 3.3, 'deg': 205, 'gust': 3.63}, 'visibility': 10000, 'pop': 0, 'sys': {'pod': 'd'}, 'dt_txt': '2025-09-27 15:00:00'}, {'dt': 1758996000, 'main': {'temp': 15.75, 'feels_like': 14.9, 'temp_min': 15.75, 'temp_max': 15.75, 'pressure': 1018, 'sea_level': 1018, 'grnd_level': 1014, 'humidity': 58, 'temp_kf': 0}, 'weather': [{'id': 500, 'main': 'Rain', 'description': 'light rain', 'icon': '10n'}], 'clouds': {'all': 100}, 'wind': {'speed': 2.11, 'deg': 179, 'gust': 4.35}, 'visibility': 10000, 'pop': 0.2, 'rain': {'3h': 0.12}, 'sys': {'pod': 'n'}, 'dt_txt': '2025-09-27 18:00:00'}, {'dt': 1759006800, 'main': {'temp': 13.69, 'feels_like': 12.99, 'temp_min': 13.69, 'temp_max': 13.69, 'pressure': 1018, 'sea_level': 1018, 'grnd_level': 1014, 'humidity': 72, 'temp_kf': 0}, 'weather': [{'id': 804, 'main': 'Clouds', 'description': 'overcast clouds', 'icon': '04n'}], 'clouds': {'all': 88}, 'wind': {'speed': 1.93, 'deg': 152, 'gust': 5.03}, 'visibility': 10000, 'pop': 0, 'sys': {'pod': 'n'}, 'dt_txt': '2025-09-27 21:00:00'}, {'dt': 1759017600, 'main': {'temp': 12.64, 'feels_like': 11.89, 'temp_min': 12.64, 'temp_max': 12.64, 'pressure': 1018, 'sea_level': 1018, 'grnd_level': 1014, 'humidity': 74, 'temp_kf': 0}, 'weather': [{'id': 803, 'main': 'Clouds', 'description': 'broken clouds', 'icon': '04n'}], 'clouds': {'all': 67}, 'wind': {'speed': 2.29, 'deg': 145, 'gust': 8.45}, 'visibility': 10000, 'pop': 0, 'sys': {'pod': 'n'}, 'dt_txt': '2025-09-28 00:00:00'}, {'dt': 1759028400, 'main': {'temp': 13.48, 'feels_like': 12.79, 'temp_min': 13.48, 'temp_max': 13.48, 'pressure': 1017, 'sea_level': 1017, 'grnd_level': 1012, 'humidity': 73, 'temp_kf': 0}, 'weather': [{'id': 804, 'main': 'Clouds', 'description': 'overcast clouds', 'icon': '04n'}], 'clouds': {'all': 100}, 'wind': {'speed': 2.76, 'deg': 151, 'gust': 8.94}, 'visibility': 10000, 'pop': 0, 'sys': {'pod': 'n'}, 'dt_txt': '2025-09-28 03:00:00'}, {'dt': 1759039200, 'main': {'temp': 12.91, 'feels_like': 12.29, 'temp_min': 12.91, 'temp_max': 12.91, 'pressure': 1017, 'sea_level': 1017, 'grnd_level': 1012, 'humidity': 78, 'temp_kf': 0}, 'weather': [{'id': 500, 'main': 'Rain', 'description': 'light rain', 'icon': '10d'}], 'clouds': {'all': 100}, 'wind': {'speed': 3.03, 'deg': 153, 'gust': 8.86}, 'visibility': 10000, 'pop': 0.2, 'rain': {'3h': 0.11}, 'sys': {'pod': 'd'}, 'dt_txt': '2025-09-28 06:00:00'}, {'dt': 1759050000, 'main': {'temp': 14.45, 'feels_like': 13.94, 'temp_min': 14.45, 'temp_max': 14.45, 'pressure': 1016, 'sea_level': 1016, 'grnd_level': 1012, 'humidity': 76, 'temp_kf': 0}, 'weather': [{'id': 500, 'main': 'Rain', 'description': 'light rain', 'icon': '10d'}], 'clouds': {'all': 100}, 'wind': {'speed': 3.61, 'deg': 165, 'gust': 7.34}, 'visibility': 10000, 'pop': 1, 'rain': {'3h': 0.9}, 'sys': {'pod': 'd'}, 'dt_txt': '2025-09-28 09:00:00'}, {'dt': 1759060800, 'main': {'temp': 13.49, 'feels_like': 13.04, 'temp_min': 13.49, 'temp_max': 13.49, 'pressure': 1016, 'sea_level': 1016, 'grnd_level': 1012, 'humidity': 82, 'temp_kf': 0}, 'weather': [{'id': 500, 'main': 'Rain', 'description': 'light rain', 'icon': '10d'}], 'clouds': {'all': 100}, 'wind': {'speed': 2.42, 'deg': 195, 'gust': 5.47}, 'visibility': 10000, 'pop': 1, 'rain': {'3h': 2.11}, 'sys': {'pod': 'd'}, 'dt_txt': '2025-09-28 12:00:00'}, {'dt': 1759071600, 'main': {'temp': 13.17, 'feels_like': 12.71, 'temp_min': 13.17, 'temp_max': 13.17, 'pressure': 1015, 'sea_level': 1015, 'grnd_level': 1011, 'humidity': 83, 'temp_kf': 0}, 'weather': [{'id': 500, 'main': 'Rain', 'description': 'light rain', 'icon': '10d'}], 'clouds': {'all': 100}, 'wind': {'speed': 1.77, 'deg': 230, 'gust': 4.14}, 'visibility': 10000, 'pop': 1, 'rain': {'3h': 2.9}, 'sys': {'pod': 'd'}, 'dt_txt': '2025-09-28 15:00:00'}, {'dt': 1759082400, 'main': {'temp': 12.65, 'feels_like': 12.11, 'temp_min': 12.65, 'temp_max': 12.65, 'pressure': 1016, 'sea_level': 1016, 'grnd_level': 1012, 'humidity': 82, 'temp_kf': 0}, 'weather': [{'id': 500, 'main': 'Rain', 'description': 'light rain', 'icon': '10n'}], 'clouds': {'all': 91}, 'wind': {'speed': 2.56, 'deg': 279, 'gust': 6.81}, 'visibility': 10000, 'pop': 1, 'rain': {'3h': 2.56}, 'sys': {'pod': 'n'}, 'dt_txt': '2025-09-28 18:00:00'}, {'dt': 1759093200, 'main': {'temp': 11.07, 'feels_like': 10.5, 'temp_min': 11.07, 'temp_max': 11.07, 'pressure': 1017, 'sea_level': 1017, 'grnd_level': 1012, 'humidity': 87, 'temp_kf': 0}, 'weather': [{'id': 804, 'main': 'Clouds', 'description': 'overcast clouds', 'icon': '04n'}], 'clouds': {'all': 98}, 'wind': {'speed': 3.76, 'deg': 283, 'gust': 9.32}, 'visibility': 10000, 'pop': 0, 'sys': {'pod': 'n'}, 'dt_txt': '2025-09-28 21:00:00'}, {'dt': 1759104000, 'main': {'temp': 10.12, 'feels_like': 9.46, 'temp_min': 10.12, 'temp_max': 10.12, 'pressure': 1017, 'sea_level': 1017, 'grnd_level': 1013, 'humidity': 87, 'temp_kf': 0}, 'weather': [{'id': 804, 'main': 'Clouds', 'description': 'overcast clouds', 'icon': '04n'}], 'clouds': {'all': 99}, 'wind': {'speed': 3.82, 'deg': 277, 'gust': 9.33}, 'visibility': 10000, 'pop': 0, 'sys': {'pod': 'n'}, 'dt_txt': '2025-09-29 00:00:00'}, {'dt': 1759114800, 'main': {'temp': 8.95, 'feels_like': 6.68, 'temp_min': 8.95, 'temp_max': 8.95, 'pressure': 1017, 'sea_level': 1017, 'grnd_level': 1013, 'humidity': 89, 'temp_kf': 0}, 'weather': [{'id': 803, 'main': 'Clouds', 'description': 'broken clouds', 'icon': '04n'}], 'clouds': {'all': 58}, 'wind': {'speed': 4.06, 'deg': 272, 'gust': 10.57}, 'visibility': 10000, 'pop': 0, 'sys': {'pod': 'n'}, 'dt_txt': '2025-09-29 03:00:00'}, {'dt': 1759125600, 'main': {'temp': 8.52, 'feels_like': 6.21, 'temp_min': 8.52, 'temp_max': 8.52, 'pressure': 1018, 'sea_level': 1018, 'grnd_level': 1014, 'humidity': 87, 'temp_kf': 0}, 'weather': [{'id': 803, 'main': 'Clouds', 'description': 'broken clouds', 'icon': '04d'}], 'clouds': {'all': 60}, 'wind': {'speed': 3.95, 'deg': 262, 'gust': 10.67}, 'visibility': 10000, 'pop': 0, 'sys': {'pod': 'd'}, 'dt_txt': '2025-09-29 06:00:00'}, {'dt': 1759136400, 'main': {'temp': 11.76, 'feels_like': 10.79, 'temp_min': 11.76, 'temp_max': 11.76, 'pressure': 1019, 'sea_level': 1019, 'grnd_level': 1015, 'humidity': 69, 'temp_kf': 0}, 'weather': [{'id': 803, 'main': 'Clouds', 'description': 'broken clouds', 'icon': '04d'}], 'clouds': {'all': 72}, 'wind': {'speed': 5.19, 'deg': 278, 'gust': 10.71}, 'visibility': 10000, 'pop': 0, 'sys': {'pod': 'd'}, 'dt_txt': '2025-09-29 09:00:00'}, {'dt': 1759147200, 'main': {'temp': 15.22, 'feels_like': 14.05, 'temp_min': 15.22, 'temp_max': 15.22, 'pressure': 1019, 'sea_level': 1019, 'grnd_level': 1015, 'humidity': 48, 'temp_kf': 0}, 'weather': [{'id': 803, 'main': 'Clouds', 'description': 'broken clouds', 'icon': '04d'}], 'clouds': {'all': 58}, 'wind': {'speed': 4.47, 'deg': 289, 'gust': 6.82}, 'visibility': 10000, 'pop': 0, 'sys': {'pod': 'd'}, 'dt_txt': '2025-09-29 12:00:00'}, {'dt': 1759158000, 'main': {'temp': 16.55, 'feels_like': 15.31, 'temp_min': 16.55, 'temp_max': 16.55, 'pressure': 1020, 'sea_level': 1020, 'grnd_level': 1015, 'humidity': 40, 'temp_kf': 0}, 'weather': [{'id': 802, 'main': 'Clouds', 'description': 'scattered clouds', 'icon': '03d'}], 'clouds': {'all': 26}, 'wind': {'speed': 4.57, 'deg': 284, 'gust': 7.21}, 'visibility': 10000, 'pop': 0, 'sys': {'pod': 'd'}, 'dt_txt': '2025-09-29 15:00:00'}, {'dt': 1759168800, 'main': {'temp': 14.47, 'feels_like': 13.3, 'temp_min': 14.47, 'temp_max': 14.47, 'pressure': 1021, 'sea_level': 1021, 'grnd_level': 1017, 'humidity': 51, 'temp_kf': 0}, 'weather': [{'id': 802, 'main': 'Clouds', 'description': 'scattered clouds', 'icon': '03n'}], 'clouds': {'all': 50}, 'wind': {'speed': 4.06, 'deg': 261, 'gust': 8.37}, 'visibility': 10000, 'pop': 0, 'sys': {'pod': 'n'}, 'dt_txt': '2025-09-29 18:00:00'}, {'dt': 1759179600, 'main': {'temp': 12.28, 'feels_like': 11.31, 'temp_min': 12.28, 'temp_max': 12.28, 'pressure': 1023, 'sea_level': 1023, 'grnd_level': 1019, 'humidity': 67, 'temp_kf': 0}, 'weather': [{'id': 801, 'main': 'Clouds', 'description': 'few clouds', 'icon': '02n'}], 'clouds': {'all': 15}, 'wind': {'speed': 3.02, 'deg': 260, 'gust': 8.34}, 'visibility': 10000, 'pop': 0, 'sys': {'pod': 'n'}, 'dt_txt': '2025-09-29 21:00:00'}], 'city': {'id': 2643743, 'name': 'London', 'coord': {'lat': 51.5085, 'lon': -0.1257}, 'country': 'GB', 'population': 1000000, 'timezone': 3600, 'sunrise': 1758692991, 'sunset': 1758736511}}\n",
      "                  time  temperature  humidity weather_status  wind_speed  \\\n",
      "0  2025-09-25 00:00:00        11.50        72         Clouds        2.87   \n",
      "1  2025-09-25 03:00:00        11.14        71         Clouds        2.84   \n",
      "2  2025-09-25 06:00:00        10.01        68         Clouds        3.00   \n",
      "3  2025-09-25 09:00:00        14.95        51         Clouds        4.65   \n",
      "4  2025-09-25 12:00:00        17.78        38         Clouds        5.42   \n",
      "\n",
      "   rain_volume_3h  snow_volume_3h  \n",
      "0             NaN             NaN  \n",
      "1             NaN             NaN  \n",
      "2             NaN             NaN  \n",
      "3             NaN             NaN  \n",
      "4             NaN             NaN  \n"
     ]
    }
   ],
   "source": [
    "# Convertimos la respuesta JSON en un diccionario de Python\n",
    "data = response.json()\n",
    "\n",
    "# Se imprime todo el contenido\n",
    "print(data)\n",
    "\n",
    "# Extraemos la lista \n",
    "forecast_list = data.get('list', [])\n",
    "\n",
    "# Creamos listas vacías para guardar los datos que luego irán al DataFrame\n",
    "times = []            # Fechas \n",
    "temperatures = []     # Temperaturas\n",
    "humidities = []       # Humedad\n",
    "weather_statuses = [] # Estado del clima \n",
    "wind_speeds = []      # Velocidad del viento\n",
    "rain_volumes = []     # Volumen de lluvia \n",
    "snow_volumes = []     # Volumen de nieve \n",
    "\n",
    "# Recorremos cada elemento de la lista de pronósticos\n",
    "for entry in forecast_list:\n",
    "    times.append(entry.get('dt_txt', np.nan))  # Obtenemos fecha y hora\n",
    "    temperatures.append(entry.get('main', {}).get('temp', np.nan))  # Temperatura\n",
    "    humidities.append(entry.get('main', {}).get('humidity', np.nan))  # Humedad\n",
    "    weather_statuses.append(entry.get('weather', [{}])[0].get('main', np.nan))  # Clima principal\n",
    "    wind_speeds.append(entry.get('wind', {}).get('speed', np.nan))  # Velocidad viento\n",
    "    rain_volumes.append(entry.get('rain', {}).get('3h', np.nan))  # Lluvia \n",
    "    snow_volumes.append(entry.get('snow', {}).get('3h', np.nan))  # Nieve \n",
    "\n",
    "# Creamos un DataFrame con todas las listas\n",
    "df = pd.DataFrame({\n",
    "    'time': times,\n",
    "    'temperature': temperatures,\n",
    "    'humidity': humidities,\n",
    "    'weather_status': weather_statuses,\n",
    "    'wind_speed': wind_speeds,\n",
    "    'rain_volume_3h': rain_volumes,\n",
    "    'snow_volume_3h': snow_volumes\n",
    "})\n",
    "\n",
    "# Imprimimos las primeras filas para verificar los datos\n",
    "print(df.head())\n"
   ]
  }
 ],
 "metadata": {
  "kernelspec": {
   "display_name": ".venv",
   "language": "python",
   "name": "python3"
  },
  "language_info": {
   "codemirror_mode": {
    "name": "ipython",
    "version": 3
   },
   "file_extension": ".py",
   "mimetype": "text/x-python",
   "name": "python",
   "nbconvert_exporter": "python",
   "pygments_lexer": "ipython3",
   "version": "3.12.3"
  }
 },
 "nbformat": 4,
 "nbformat_minor": 5
}
